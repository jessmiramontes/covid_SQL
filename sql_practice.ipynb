{
 "cells": [
  {
   "cell_type": "code",
   "execution_count": 1,
   "metadata": {},
   "outputs": [],
   "source": [
    "import sqlite3 \n",
    "import pandas as pd\n"
   ]
  },
  {
   "cell_type": "code",
   "execution_count": 2,
   "metadata": {},
   "outputs": [],
   "source": [
    "# Conexión\n",
    "con = sqlite3.connect(\"mydb.db\") # si la base de datos no existe, SQL3 la crea."
   ]
  },
  {
   "cell_type": "code",
   "execution_count": 3,
   "metadata": {},
   "outputs": [
    {
     "data": {
      "text/plain": [
       "<sqlite3.Cursor at 0x7d1ddc0cf6c0>"
      ]
     },
     "execution_count": 3,
     "metadata": {},
     "output_type": "execute_result"
    }
   ],
   "source": [
    "con.execute('''CREATE TABLE person(id INT PRIMARY KEY NOT NULL, first_name VARCHAR(30) NOT NULL, last_name VARCHAR(50) NOT NULL, age INT)''' )"
   ]
  },
  {
   "cell_type": "code",
   "execution_count": 9,
   "metadata": {},
   "outputs": [
    {
     "ename": "IntegrityError",
     "evalue": "UNIQUE constraint failed: person.id",
     "output_type": "error",
     "traceback": [
      "\u001b[0;31m---------------------------------------------------------------------------\u001b[0m",
      "\u001b[0;31mIntegrityError\u001b[0m                            Traceback (most recent call last)",
      "Cell \u001b[0;32mIn[9], line 1\u001b[0m\n\u001b[0;32m----> 1\u001b[0m \u001b[43mcon\u001b[49m\u001b[38;5;241;43m.\u001b[39;49m\u001b[43mexecute\u001b[49m\u001b[43m(\u001b[49m\u001b[38;5;124;43m'''\u001b[39;49m\u001b[38;5;124;43mINSERT INTO person VALUES (1,\u001b[39;49m\u001b[38;5;124;43m\"\u001b[39;49m\u001b[38;5;124;43mDina\u001b[39;49m\u001b[38;5;124;43m\"\u001b[39;49m\u001b[38;5;124;43m,\u001b[39;49m\u001b[38;5;124;43m\"\u001b[39;49m\u001b[38;5;124;43mPerez\u001b[39;49m\u001b[38;5;124;43m\"\u001b[39;49m\u001b[38;5;124;43m,50) \u001b[39;49m\u001b[38;5;124;43m'''\u001b[39;49m\u001b[43m)\u001b[49m\n\u001b[1;32m      2\u001b[0m con\u001b[38;5;241m.\u001b[39mexecute(\u001b[38;5;124m'''\u001b[39m\u001b[38;5;124mINSERT INTO person VALUES (2,\u001b[39m\u001b[38;5;124m\"\u001b[39m\u001b[38;5;124mJuan\u001b[39m\u001b[38;5;124m\"\u001b[39m\u001b[38;5;124m,\u001b[39m\u001b[38;5;124m\"\u001b[39m\u001b[38;5;124mSanchez\u001b[39m\u001b[38;5;124m\"\u001b[39m\u001b[38;5;124m,40) \u001b[39m\u001b[38;5;124m'''\u001b[39m)\n\u001b[1;32m      3\u001b[0m con\u001b[38;5;241m.\u001b[39mexecute(\u001b[38;5;124m'''\u001b[39m\u001b[38;5;124mINSERT INTO person VALUES (3,\u001b[39m\u001b[38;5;124m\"\u001b[39m\u001b[38;5;124mAna\u001b[39m\u001b[38;5;124m\"\u001b[39m\u001b[38;5;124m,\u001b[39m\u001b[38;5;124m\"\u001b[39m\u001b[38;5;124mLopez\u001b[39m\u001b[38;5;124m\"\u001b[39m\u001b[38;5;124m,25) \u001b[39m\u001b[38;5;124m'''\u001b[39m)\n",
      "\u001b[0;31mIntegrityError\u001b[0m: UNIQUE constraint failed: person.id"
     ]
    }
   ],
   "source": [
    "con.execute('''INSERT INTO person VALUES (1,\"Dina\",\"Perez\",50) ''')\n",
    "con.execute('''INSERT INTO person VALUES (2,\"Juan\",\"Sanchez\",40) ''')\n",
    "con.execute('''INSERT INTO person VALUES (3,\"Ana\",\"Lopez\",25) ''')"
   ]
  },
  {
   "cell_type": "code",
   "execution_count": 5,
   "metadata": {},
   "outputs": [],
   "source": [
    "# Commit para asegurarnos de los cambios\n",
    "con.commit()"
   ]
  },
  {
   "cell_type": "code",
   "execution_count": 10,
   "metadata": {},
   "outputs": [
    {
     "name": "stdout",
     "output_type": "stream",
     "text": [
      "1 Dina Perez\n",
      "2 Juan Sanchez\n",
      "3 Ana Lopez\n"
     ]
    }
   ],
   "source": [
    "# Para poder ver registro por registro teno que crear un \"cursor\"\n",
    "cursor = con.execute(''' SELECT * FROM person  ''')\n",
    "for row in cursor: \n",
    "    print(f'{row[0]} {row[1]} {row[2]}')"
   ]
  },
  {
   "cell_type": "code",
   "execution_count": 12,
   "metadata": {},
   "outputs": [
    {
     "name": "stdout",
     "output_type": "stream",
     "text": [
      "1 Dina Perez\n",
      "2 Juan Sanchez\n",
      "3 Ana Lopez\n"
     ]
    }
   ],
   "source": [
    "# Para actualizar un registro\n",
    "con.execute('''UPDATE person SET age = 48 WHERE id=1''')\n",
    "con.commit()\n",
    "cursor = con.execute(''' SELECT * FROM person  ''')\n",
    "for row in cursor: \n",
    "    print(f'{row[0]} {row[1]} {row[2]}')"
   ]
  },
  {
   "cell_type": "code",
   "execution_count": 14,
   "metadata": {},
   "outputs": [
    {
     "name": "stdout",
     "output_type": "stream",
     "text": [
      "1 Dina Perez\n",
      "2 Juan Sanchez\n"
     ]
    }
   ],
   "source": [
    "con.execute('''DELETE FROM person WHERE id = 3''')\n",
    "con.commit()\n",
    "cursor = con.execute(''' SELECT * FROM person  ''')\n",
    "for row in cursor: \n",
    "    print(f'{row[0]} {row[1]} {row[2]}')"
   ]
  }
 ],
 "metadata": {
  "kernelspec": {
   "display_name": ".venv",
   "language": "python",
   "name": "python3"
  },
  "language_info": {
   "codemirror_mode": {
    "name": "ipython",
    "version": 3
   },
   "file_extension": ".py",
   "mimetype": "text/x-python",
   "name": "python",
   "nbconvert_exporter": "python",
   "pygments_lexer": "ipython3",
   "version": "3.12.1"
  }
 },
 "nbformat": 4,
 "nbformat_minor": 2
}
